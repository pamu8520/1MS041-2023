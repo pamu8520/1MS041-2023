{
 "cells": [
  {
   "cell_type": "markdown",
   "metadata": {},
   "source": [
    "Table of Distributions in AOS p.433"
   ]
  },
  {
   "cell_type": "markdown",
   "metadata": {},
   "source": [
    "# Probability\n",
    "**Sample space**: The possible outcomes. $\\Omega = \\{apple, orange, banana\\}$\n",
    "\n",
    "**Event**: subset of sample space. $\\{apple, orange\\} \\subset \\Omega$\n",
    "\n",
    "- **a single outcome**: $\\omega$\n",
    "    \n",
    "- **a simple event** is a single outcome, $\\omega$ as a subset of ${\\Omega}$: $\\{\\omega\\} \\subset \\Omega$\n",
    "\n",
    "- **Pair-wise disjoint event**: the events cannot happen at the same time. $A_i \\cap A_j =  \\emptyset$ when $i \\ne j$ \n",
    "- **Independent event**: Two events A and B are said to be independent iff $P(A \\cap B) = P(A)P(B)$. Which is the same as saying, the occurance of B gives no new information about the chances of A accurring: $P(A|B) = P(A)$\n",
    "- **Dependent event** if $P(A|B) \\ne P(A)$ then it means that the occurence of B provided new information about the chances of A occuring. For example, someone who knows nothing about football might naturally assume a 50%-50% chance that either team will win (event A). However, someone who knows about football might say that one team is better (event B). In this case, event A can be changed based on the new information from event B, indicating that one team has a higher chance of winning."
   ]
  },
  {
   "cell_type": "markdown",
   "metadata": {},
   "source": [
    "## Random Variable\n",
    "ITDS (p. 15) & AOS (p. 35)\n",
    "A random variable is a mapping that assigns a real number $X(\\omega)$ to each outcome. For example we have the outcome for a sample space. \n",
    "\n",
    "$$\n",
    "\\Omega = \\{HTT, HHT, HTH\\}\n",
    "$$ \n",
    "then the following real number (random variable X) which represents the number of tails are \n",
    "\n",
    "$$\n",
    "X = \\{ \\omega_1, \\omega_2, \\omega_3\\} = \\{ 2, 1, 1\\} \n",
    "$$\n",
    "\n",
    "**CDF/DF** \n",
    "\n",
    "### Discrete RV\n",
    "A set $X \\subset R$ is discrete if its elements can be enumerated. So RV is discrete if it takes at most countably many values from the set X. (Finite interval, values can be counted)\n",
    "\n",
    "#### Common class of discrete RV\n",
    "- Discrete uniform random variables with finitely many possibilities (de Moivre)\n",
    "- Discrete non-uniform random variables with finitely many possibilities\n",
    "- Discrete non-uniform random variables with (countably) infinitely many\n",
    "possibilities\n",
    "\n",
    "\n",
    "#### Common discrete RV\n",
    "- Bernoulli\n",
    "- Binomial (AOS p. 42)\n",
    "\n",
    "    - Two potential outcomes, either 0 or 1 per trial\n",
    "    - Same success probability across all trials\n",
    "    - Fixed number of trials\n",
    "    - Each trial is independent \n",
    "\n",
    "$$\n",
    "    f(x) = {n \\choose x} p^x (1-p)^{n-x}\n",
    "$$\n",
    "    \n",
    "$X \\sim Binomial(n,p)$ \n",
    "\n",
    "If $X_1 \\sim Binomial(n_1 ,p)$ and $X_2 \\sim Binomial(n_2 ,p)$\n",
    "\n",
    "then $X_1 + X_2 \\sim Binomial(n_1 + n_2,p)$\n",
    "- Poisson\n",
    "\n",
    "\n",
    "### Continuous RV\n",
    "#### Common continuous RV\n",
    "- Uniform RV $[0,1]$\n",
    "- Gaussian RV or Normal distributed RV \n"
   ]
  }
 ],
 "metadata": {
  "language_info": {
   "name": "python"
  }
 },
 "nbformat": 4,
 "nbformat_minor": 2
}
