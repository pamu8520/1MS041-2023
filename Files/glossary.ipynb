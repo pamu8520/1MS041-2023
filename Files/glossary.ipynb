{
 "cells": [
  {
   "cell_type": "markdown",
   "metadata": {},
   "source": [
    "**Sample space**: The possible outcomes. $\\Omega = \\{apple, orange, banana\\}$\n",
    "\n",
    "**Event**: subset of sample space. $\\{apple, orange\\} \\subset \\Omega$\n",
    "\n",
    "- **a single outcome**: $\\omega$\n",
    "    \n",
    "- **a simple event** is a single outcome, $\\omega$ as a subset of ${\\Omega}$: $\\{\\omega\\} \\subset \\Omega$\n",
    "\n",
    "- **Pair-wise disjoint event**: the events cannot happen at the same time. $A_i \\cap A_j =  \\emptyset$ when $i \\ne j$ \n",
    "- **Independent event**: Two events A and B are said to be independent iff $P(A \\cap B) = P(A)P(B)$. Which is the same as saying, the occurance of B gives no new information about the chances of A accurring: $P(A|B) = P(A)$\n",
    "- **Dependent event** if $P(A|B) \\ne P(A)$ then it means that the occurence of B provided new information about the chances of A occuring. T.ex. kan ingenting om fotboll, naturligt att förslå 50%-50% chans att någon av lagen vinner (event A). Men någon som kan fotboll säger att ena lagen är bättre (event B). Då kan event A ändras på grund av den nya informationen från event B och säger att ena laget har större chans att vinna. "
   ]
  },
  {
   "cell_type": "markdown",
   "metadata": {},
   "source": []
  }
 ],
 "metadata": {
  "language_info": {
   "name": "python"
  }
 },
 "nbformat": 4,
 "nbformat_minor": 2
}
