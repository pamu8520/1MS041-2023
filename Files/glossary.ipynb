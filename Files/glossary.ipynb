{
 "cells": [
  {
   "cell_type": "markdown",
   "metadata": {},
   "source": [
    "**Sample space**: The possible outcomes. $\\Omega = \\{apple, orange, banana\\}$\n",
    "\n",
    "**Event**: subset of sample space. $\\{apple, orange\\} \\subset \\Omega$\n",
    "\n",
    "- **a single outcome**: $\\omega$\n",
    "    \n",
    "- **a simple event** is a single outcome, $\\omega$ as a subset of ${\\Omega}$: $\\{\\omega\\} \\subset \\Omega$\n",
    "\n",
    "**Pair-wise disjoint event**: the events cannot happen at the same time. $A_i \\cap A_j =  \\emptyset$ when $i \\ne j$ "
   ]
  },
  {
   "cell_type": "markdown",
   "metadata": {},
   "source": []
  }
 ],
 "metadata": {
  "language_info": {
   "name": "python"
  }
 },
 "nbformat": 4,
 "nbformat_minor": 2
}
